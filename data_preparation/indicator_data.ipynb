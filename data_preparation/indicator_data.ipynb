{
 "cells": [
  {
   "cell_type": "code",
   "execution_count": 1,
   "metadata": {},
   "outputs": [],
   "source": [
    "import numpy as np\n",
    "import pandas as pd"
   ]
  },
  {
   "cell_type": "code",
   "execution_count": 2,
   "metadata": {},
   "outputs": [],
   "source": [
    "data = pd.read_excel('../raw_data/indicators.xlsx', sheet_name='subset')\n",
    "data=data.drop(columns=['Q3','Q1','IQR'])"
   ]
  },
  {
   "cell_type": "code",
   "execution_count": 3,
   "metadata": {},
   "outputs": [],
   "source": [
    "normalised_series = []\n",
    "years = [column_name for column_name in data.columns if str(column_name).isnumeric()]\n",
    "for index, row in data.iterrows():\n",
    "    time_series = row[years].values\n",
    "    normalised_serie = (time_series - row.worstBound)/(row.bestBound - row.worstBound)\n",
    "    if row.invert == 1:\n",
    "        final_serie = 1 - normalised_serie\n",
    "    else:\n",
    "        final_serie = normalised_serie\n",
    "    normalised_series.append( final_serie )\n",
    "    \n",
    "df = pd.DataFrame(normalised_series, columns=years)"
   ]
  },
  {
   "cell_type": "code",
   "execution_count": 4,
   "metadata": {},
   "outputs": [],
   "source": [
    "df['seriesCode'] = data.seriesCode\n",
    "df['priority'] = data.priority\n",
    "df['minVals'] = np.zeros(len(data))\n",
    "df['maxVals'] = np.ones(len(data))\n",
    "df['instrumental'] = data.instrumental\n",
    "df['seriesName'] = data.seriesName"
   ]
  },
  {
   "cell_type": "code",
   "execution_count": 5,
   "metadata": {},
   "outputs": [],
   "source": [
    "# add new columns\n",
    "df['I0'] = df[years[0]]\n",
    "df['IF'] = df[years[-1]]\n",
    "successRates = np.sum(df[years].values[:,1::] > df[years].values[:,0:-1], axis=1)/(len(years)-1)\n",
    "\n",
    "# if a success rate is 0 or 1, it is recommended to replace them by a very low or high value as \n",
    "# zeros and ones are usually an artefact of lacking data on enough policy trials in the indicator\n",
    "successRates[successRates==0] = .05\n",
    "successRates[successRates==1] = .95\n",
    "df['successRates'] = successRates"
   ]
  },
  {
   "cell_type": "code",
   "execution_count": 6,
   "metadata": {},
   "outputs": [],
   "source": [
    "df.loc[df.I0==df.IF, 'IF'] = df.loc[df.I0==df.IF, 'IF']*1.05"
   ]
  },
  {
   "cell_type": "code",
   "execution_count": 7,
   "metadata": {},
   "outputs": [],
   "source": [
    "df['qm'] = 0.5 # quality of monitoring\n",
    "df['rl'] = 0.5 # quality of the rule of law"
   ]
  },
  {
   "cell_type": "code",
   "execution_count": 9,
   "metadata": {},
   "outputs": [],
   "source": [
    "df.to_csv('../clean_data/data_indicators.csv', index=False)"
   ]
  }
 ],
 "metadata": {
  "kernelspec": {
   "display_name": "base",
   "language": "python",
   "name": "python3"
  },
  "language_info": {
   "codemirror_mode": {
    "name": "ipython",
    "version": 3
   },
   "file_extension": ".py",
   "mimetype": "text/x-python",
   "name": "python",
   "nbconvert_exporter": "python",
   "pygments_lexer": "ipython3",
   "version": "3.9.13"
  },
  "orig_nbformat": 4
 },
 "nbformat": 4,
 "nbformat_minor": 2
}
