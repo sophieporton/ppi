{
 "cells": [
  {
   "cell_type": "code",
   "execution_count": 1,
   "metadata": {},
   "outputs": [],
   "source": [
    "import pandas as pd\n",
    "import numpy as np"
   ]
  },
  {
   "cell_type": "code",
   "execution_count": 2,
   "metadata": {},
   "outputs": [],
   "source": [
    "data = pd.read_csv('../clean_data/data_indicators.csv')"
   ]
  },
  {
   "cell_type": "code",
   "execution_count": 3,
   "metadata": {},
   "outputs": [],
   "source": [
    "N = len(data)\n",
    "M = np.zeros((N, N))\n",
    "years = [column_name for column_name in data.columns if str(column_name).isnumeric()]\n",
    "\n",
    "for i, rowi in data.iterrows():\n",
    "    for j, rowj in data.iterrows():\n",
    "        if i!=j:\n",
    "            serie1 = rowi[years].values.astype(float)[1::]\n",
    "            serie2 = rowj[years].values.astype(float)[0:-1]\n",
    "            change_serie1 = serie1[1::] - serie1[0:-1]\n",
    "            change_serie2 = serie2[1::] - serie2[0:-1]\n",
    "            if not np.all(change_serie1 == change_serie1[0]) and not np.all(change_serie2 == change_serie2[0]):\n",
    "                M[i,j] = np.corrcoef(change_serie1, change_serie2)[0,1]"
   ]
  },
  {
   "cell_type": "code",
   "execution_count": 4,
   "metadata": {},
   "outputs": [],
   "source": [
    "M[np.abs(M) < 0.5] = 0"
   ]
  },
  {
   "cell_type": "code",
   "execution_count": 6,
   "metadata": {},
   "outputs": [],
   "source": [
    "\n",
    "ids = data.seriesCode.values\n",
    "edge_list = []\n",
    "for i, j in zip(np.where(M!=0)[0], np.where(M!=0)[1]):\n",
    "    edge_list.append( [ids[i], ids[j], M[i,j]] )\n",
    "df = pd.DataFrame(edge_list, columns=['origin', 'destination', 'weight'])\n",
    "df.to_csv('../clean_data/data_network.csv', index=False)"
   ]
  }
 ],
 "metadata": {
  "kernelspec": {
   "display_name": "base",
   "language": "python",
   "name": "python3"
  },
  "language_info": {
   "codemirror_mode": {
    "name": "ipython",
    "version": 3
   },
   "file_extension": ".py",
   "mimetype": "text/x-python",
   "name": "python",
   "nbconvert_exporter": "python",
   "pygments_lexer": "ipython3",
   "version": "3.9.13"
  },
  "orig_nbformat": 4
 },
 "nbformat": 4,
 "nbformat_minor": 2
}
